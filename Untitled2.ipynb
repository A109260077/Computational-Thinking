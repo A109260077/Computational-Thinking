{
  "nbformat": 4,
  "nbformat_minor": 0,
  "metadata": {
    "colab": {
      "name": "Untitled2.ipynb",
      "provenance": [],
      "authorship_tag": "ABX9TyMkoq3m9njDw9BoK0vWyOAu",
      "include_colab_link": true
    },
    "kernelspec": {
      "name": "python3",
      "display_name": "Python 3"
    }
  },
  "cells": [
    {
      "cell_type": "markdown",
      "metadata": {
        "id": "view-in-github",
        "colab_type": "text"
      },
      "source": [
        "<a href=\"https://colab.research.google.com/github/A109260077/Computational-Thinking/blob/master/Untitled2.ipynb\" target=\"_parent\"><img src=\"https://colab.research.google.com/assets/colab-badge.svg\" alt=\"Open In Colab\"/></a>"
      ]
    },
    {
      "cell_type": "code",
      "metadata": {
        "id": "H2WnJC0op3ry"
      },
      "source": [
        "#input\n",
        "fir=int(input('請輸入第一次期中考分數?'))\n",
        "sec=int(input('請輸入第二次期中考分數?'))\n",
        "thi=int(input('請輸入第三次期中考分數?'))\n",
        "#process\n",
        "平均=(fir+sec+thi)/3\n",
        "##output\n",
        "print(f'總平均為{平均}')\n"
      ],
      "execution_count": null,
      "outputs": []
    }
  ]
}
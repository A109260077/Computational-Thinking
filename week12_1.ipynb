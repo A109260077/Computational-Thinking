{
  "nbformat": 4,
  "nbformat_minor": 0,
  "metadata": {
    "colab": {
      "name": "week12.1",
      "provenance": [],
      "authorship_tag": "ABX9TyN++fc+JuweQeABeNrlhxwW",
      "include_colab_link": true
    },
    "kernelspec": {
      "name": "python3",
      "display_name": "Python 3"
    }
  },
  "cells": [
    {
      "cell_type": "markdown",
      "metadata": {
        "id": "view-in-github",
        "colab_type": "text"
      },
      "source": [
        "<a href=\"https://colab.research.google.com/github/A109260077/Computational-Thinking/blob/master/week12_1.ipynb\" target=\"_parent\"><img src=\"https://colab.research.google.com/assets/colab-badge.svg\" alt=\"Open In Colab\"/></a>"
      ]
    },
    {
      "cell_type": "code",
      "metadata": {
        "colab": {
          "base_uri": "https://localhost:8080/"
        },
        "id": "Ii1MZL6IvtRM",
        "outputId": "8926cd7e-f355-4ee5-9ec0-d65c82dbd000"
      },
      "source": [
        "# [0,1,2,3,4,5,6,7,8,9]\n",
        "a = range(10)\n",
        "print(a)\n",
        "range(0, 10)\n",
        "print(a[0], a[1], a[2], a[3], a[4], a[5], a[6], a[7], a[8], a[9])\n",
        "# [0, 2, 4, 6, 8]\n",
        "b = range(0, 9)\n",
        "print(b[0], b[2], b[4], b[6], b[8])\n",
        "# [5, 7, 9]\n",
        "c = range(5, 10, 2)\n",
        "print(c[0], c[1], c[2])\n",
        "# [0, -1, -2, -3, -4, -5, -6, -7, -8, -9]\n",
        "d = range(0, -10, -1)\n",
        "print(d[0], d[-9], d[-8], d[-7], d[-6], d[-5], d[-4], d[-3], d[-2], d[-1])"
      ],
      "execution_count": null,
      "outputs": [
        {
          "output_type": "stream",
          "text": [
            "range(0, 10)\n",
            "0 1 2 3 4 5 6 7 8 9\n",
            "0 2 4 6 8\n",
            "5 7 9\n",
            "0 -1 -2 -3 -4 -5 -6 -7 -8 -9\n"
          ],
          "name": "stdout"
        }
      ]
    },
    {
      "cell_type": "code",
      "metadata": {
        "id": "4C8Xm7iSz_mh"
      },
      "source": [
        "project_title=\n",
        "name_list=\"陳婕妮\",\"鄧喬薰\",\"張家瑄\",\"孫紹維\",\"張書豪\",\"陳信嘉\",\"陳冠霖\",\"王煜翔\"\n",
        "number_list=\"77\",\"11\",\"89\",\"25\",\"39\",\"45\",\"19\",\"27\"\n",
        "duty_list=\n",
        "load_list="
      ],
      "execution_count": null,
      "outputs": []
    }
  ]
}
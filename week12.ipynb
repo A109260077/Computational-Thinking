{
  "nbformat": 4,
  "nbformat_minor": 0,
  "metadata": {
    "colab": {
      "name": "week12",
      "provenance": [],
      "authorship_tag": "ABX9TyNaINSCUqoVxeP2N8THCDND",
      "include_colab_link": true
    },
    "kernelspec": {
      "name": "python3",
      "display_name": "Python 3"
    }
  },
  "cells": [
    {
      "cell_type": "markdown",
      "metadata": {
        "id": "view-in-github",
        "colab_type": "text"
      },
      "source": [
        "<a href=\"https://colab.research.google.com/github/A109260077/Computational-Thinking/blob/master/week12.ipynb\" target=\"_parent\"><img src=\"https://colab.research.google.com/assets/colab-badge.svg\" alt=\"Open In Colab\"/></a>"
      ]
    },
    {
      "cell_type": "markdown",
      "metadata": {
        "id": "_gZ7-TIVepRW"
      },
      "source": [
        "購物清單"
      ]
    },
    {
      "cell_type": "code",
      "metadata": {
        "colab": {
          "base_uri": "https://localhost:8080/"
        },
        "id": "-FiyvGNgYKax",
        "outputId": "420ae05c-a16d-46aa-9da3-cf69b805c408"
      },
      "source": [
        "shopping_list = ['chocolate','egg','apple','drink','lemon']\n",
        "print(shopping_list)"
      ],
      "execution_count": 5,
      "outputs": [
        {
          "output_type": "stream",
          "text": [
            "['chocolate', 'egg', 'apple', 'drink', 'lemon']\n"
          ],
          "name": "stdout"
        }
      ]
    },
    {
      "cell_type": "markdown",
      "metadata": {
        "id": "cjQBrsh7hfrr"
      },
      "source": [
        "NBA冠軍賽的六筆資訊"
      ]
    },
    {
      "cell_type": "code",
      "metadata": {
        "colab": {
          "base_uri": "https://localhost:8080/"
        },
        "id": "bJDgxEWGhgFI",
        "outputId": "399f08f1-02d4-4357-a0b7-0b4c4b4d2592"
      },
      "source": [
        "season = \"2020\"\n",
        "team = \"Los Angeles Lakers\"\n",
        "coach = \"約翰·庫達爾\"\n",
        "records = [52,19]\n",
        "starting = [\"ANTHONY DAVIS\", \"LeBron-James\", \"Kentavious-Caldwell-Pope\", \"Kyle-Kuzma\", \"Rajon-Rondo\"]\n",
        "champion = True\n",
        "\n",
        "# 變數best_NBA 賦值串列\n",
        "best_NBA = list((season, team, coach, records, starting, champion))\n",
        "# TypeError: list expected at most 1 arguments, got 6 (要有兩個小括號)\n",
        "print(best_NBA)\n",
        "['2020', 'Los Angeles Lakers', '約翰·庫達爾', [52,19], ['ANTHONY DAVIS', 'LeBron-James', 'Kentavious-Caldwell-Pope', 'Kyle-Kuzma',\n",
        "'Rajon-Rondo'], True]\n",
        "print(type(best_NBA))\n",
        "# indexing 索引\n",
        "print(best_NBA[-2])\n",
        "['ANTHONY DAVIS', 'LeBron-James', 'Kentavious-Caldwell-Pope', 'Kyle-Kuzma', 'Rajon-Rondo']\n",
        "# slicing 切片\n",
        "print(best_NBA[1:4])\n",
        "['ANTHONY DAVIS', 'LeBron-James', [72, 10]]"
      ],
      "execution_count": 14,
      "outputs": [
        {
          "output_type": "stream",
          "text": [
            "['2020', 'Los Angeles Lakers', '約翰·庫達爾', [52, 19], ['ANTHONY DAVIS', 'LeBron-James', 'Kentavious-Caldwell-Pope', 'Kyle-Kuzma', 'Rajon-Rondo'], True]\n",
            "<class 'list'>\n",
            "['ANTHONY DAVIS', 'LeBron-James', 'Kentavious-Caldwell-Pope', 'Kyle-Kuzma', 'Rajon-Rondo']\n",
            "['Los Angeles Lakers', '約翰·庫達爾', [52, 19]]\n"
          ],
          "name": "stdout"
        },
        {
          "output_type": "execute_result",
          "data": {
            "text/plain": [
              "['ANTHONY DAVIS', 'LeBron-James', [72, 10]]"
            ]
          },
          "metadata": {
            "tags": []
          },
          "execution_count": 14
        }
      ]
    }
  ]
}
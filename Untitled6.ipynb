{
  "nbformat": 4,
  "nbformat_minor": 0,
  "metadata": {
    "colab": {
      "name": "Untitled6.ipynb",
      "provenance": [],
      "authorship_tag": "ABX9TyN+UIrCGR7+yjvvtjRWaUBc",
      "include_colab_link": true
    },
    "kernelspec": {
      "name": "python3",
      "display_name": "Python 3"
    }
  },
  "cells": [
    {
      "cell_type": "markdown",
      "metadata": {
        "id": "view-in-github",
        "colab_type": "text"
      },
      "source": [
        "<a href=\"https://colab.research.google.com/github/A109260077/Computational-Thinking/blob/master/Untitled6.ipynb\" target=\"_parent\"><img src=\"https://colab.research.google.com/assets/colab-badge.svg\" alt=\"Open In Colab\"/></a>"
      ]
    },
    {
      "cell_type": "code",
      "metadata": {
        "colab": {
          "base_uri": "https://localhost:8080/"
        },
        "id": "Ds0we--3dzrD",
        "outputId": "e791b330-e5db-4ebc-a44d-a5420fd13999"
      },
      "source": [
        "for i in range(0,5,1):\r\n",
        " print(\"Hello\")"
      ],
      "execution_count": 2,
      "outputs": [
        {
          "output_type": "stream",
          "text": [
            "Hello\n",
            "Hello\n",
            "Hello\n",
            "Hello\n",
            "Hello\n"
          ],
          "name": "stdout"
        }
      ]
    },
    {
      "cell_type": "code",
      "metadata": {
        "colab": {
          "base_uri": "https://localhost:8080/"
        },
        "id": "br473vn5lHvN",
        "outputId": "e9fb463a-f4b6-4bef-b384-674ac4ce84a5"
      },
      "source": [
        "for i in range(100, 90, -3):\r\n",
        " print(i)"
      ],
      "execution_count": 6,
      "outputs": [
        {
          "output_type": "stream",
          "text": [
            "100\n",
            "97\n",
            "94\n",
            "91\n"
          ],
          "name": "stdout"
        }
      ]
    },
    {
      "cell_type": "code",
      "metadata": {
        "colab": {
          "base_uri": "https://localhost:8080/"
        },
        "id": "uIRHvfcZlIH8",
        "outputId": "e1fd408a-2755-44cc-8501-cb5755dac270"
      },
      "source": [
        "sum = 0\r\n",
        "for i in range(3, 14, 3):\r\n",
        " sum = sum + i\r\n",
        "print(\"Total is\", sum)\r\n",
        "\r\n"
      ],
      "execution_count": 8,
      "outputs": [
        {
          "output_type": "stream",
          "text": [
            "Total is 30\n"
          ],
          "name": "stdout"
        }
      ]
    },
    {
      "cell_type": "code",
      "metadata": {
        "colab": {
          "base_uri": "https://localhost:8080/"
        },
        "id": "qDZSXVb1xzVG",
        "outputId": "d475ea50-4065-485c-b295-88aaefa23146"
      },
      "source": [
        "sum = 0\r\n",
        "for i in range(1, 6, 1):\r\n",
        " sum = sum + i*i\r\n",
        "print('total is', sum)"
      ],
      "execution_count": 12,
      "outputs": [
        {
          "output_type": "stream",
          "text": [
            "total is 55\n"
          ],
          "name": "stdout"
        }
      ]
    }
  ]
}
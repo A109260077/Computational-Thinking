{
  "nbformat": 4,
  "nbformat_minor": 0,
  "metadata": {
    "colab": {
      "name": "week10-1",
      "provenance": [],
      "authorship_tag": "ABX9TyMrDKrLT0Mxq7Hh0XoHQOVq",
      "include_colab_link": true
    },
    "kernelspec": {
      "name": "python3",
      "display_name": "Python 3"
    }
  },
  "cells": [
    {
      "cell_type": "markdown",
      "metadata": {
        "id": "view-in-github",
        "colab_type": "text"
      },
      "source": [
        "<a href=\"https://colab.research.google.com/github/A109260077/Computational-Thinking/blob/master/week10_1.ipynb\" target=\"_parent\"><img src=\"https://colab.research.google.com/assets/colab-badge.svg\" alt=\"Open In Colab\"/></a>"
      ]
    },
    {
      "cell_type": "code",
      "metadata": {
        "colab": {
          "base_uri": "https://localhost:8080/"
        },
        "id": "8Jh9rapTQqC6",
        "outputId": "190a8162-81cf-456c-a013-50d0f4cc1995"
      },
      "source": [
        "movie_title = \"money_ball\"\n",
        "release_year = \"2011\"\n",
        "movie_time_min = 133\n",
        "movie_rating = 7.6 \n",
        "director = \"Bennett Miller\"\n",
        "stars_1 = \"Brad Pitt\"\n",
        "stars_2 = \"Robin Wright\"\n",
        "stars_3 = \"Jonah Hill\"\n",
        "like = 1\n",
        "print(\"電影英文名稱\",movie_title)\n",
        "print(\"上映時間\",release_year)\n",
        "print(\"導演\",director)\n",
        "print(\"主角1\",stars_1)\n",
        "print(\"主角2\",stars_2)\n",
        "\n",
        "\n"
      ],
      "execution_count": 7,
      "outputs": [
        {
          "output_type": "stream",
          "text": [
            "電影英文名稱 money_ball\n",
            "上映時間 2011\n",
            "導演 Bennett Miller\n",
            "主角1 Brad Pitt\n",
            "主角2 Robin Wright\n"
          ],
          "name": "stdout"
        }
      ]
    }
  ]
}
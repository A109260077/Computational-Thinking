{
  "nbformat": 4,
  "nbformat_minor": 0,
  "metadata": {
    "colab": {
      "name": "week11",
      "provenance": [],
      "authorship_tag": "ABX9TyM4DKtIY81OB7/e5CG0y1HR",
      "include_colab_link": true
    },
    "kernelspec": {
      "name": "python3",
      "display_name": "Python 3"
    }
  },
  "cells": [
    {
      "cell_type": "markdown",
      "metadata": {
        "id": "view-in-github",
        "colab_type": "text"
      },
      "source": [
        "<a href=\"https://colab.research.google.com/github/A109260077/Computational-Thinking/blob/master/week11.ipynb\" target=\"_parent\"><img src=\"https://colab.research.google.com/assets/colab-badge.svg\" alt=\"Open In Colab\"/></a>"
      ]
    },
    {
      "cell_type": "code",
      "metadata": {
        "colab": {
          "base_uri": "https://localhost:8080/"
        },
        "id": "CzOrQK-1ZRT_",
        "outputId": "e31f8001-8cc5-418e-fda1-1bca56900c72"
      },
      "source": [
        "#商數餘數\n",
        "##input\n",
        "seat=int(input(\"enter a seat number?\"))\n",
        "##process\n",
        "group=(seat-1)//5+1\n",
        "##output\n",
        "print(\"group is\",group)"
      ],
      "execution_count": 1,
      "outputs": [
        {
          "output_type": "stream",
          "text": [
            "enter a seat number?6\n",
            "group is 2\n"
          ],
          "name": "stdout"
        }
      ]
    },
    {
      "cell_type": "code",
      "metadata": {
        "colab": {
          "base_uri": "https://localhost:8080/"
        },
        "id": "QF5FBtAjfODs",
        "outputId": "21704522-302a-4081-c76a-45d8912260e4"
      },
      "source": [
        "#四捨五入 無條件進位\n",
        "import math\n",
        "##input\n",
        "seat=int(input(\"enter a seat number?\"))\n",
        "##process\n",
        "group=math.ceil(seat/5)\n",
        "##output\n",
        "print(\"group is\",group)"
      ],
      "execution_count": 2,
      "outputs": [
        {
          "output_type": "stream",
          "text": [
            "enter a seat number?6\n",
            "group is 2\n"
          ],
          "name": "stdout"
        }
      ]
    },
    {
      "cell_type": "code",
      "metadata": {
        "colab": {
          "base_uri": "https://localhost:8080/"
        },
        "id": "lMaOkHlTf_tE",
        "outputId": "9b40130a-6e6d-4549-afc7-a84512e4735d"
      },
      "source": [
        "number=int(input(\"enter a number?\"))\n",
        "if number%5==0:\n",
        "   print(\"group is\",number//5)\n",
        "else:\n",
        "  print(\"group is\",number//5+1)"
      ],
      "execution_count": 4,
      "outputs": [
        {
          "output_type": "stream",
          "text": [
            "enter a number?6\n",
            "group is 2\n"
          ],
          "name": "stdout"
        }
      ]
    },
    {
      "cell_type": "code",
      "metadata": {
        "colab": {
          "base_uri": "https://localhost:8080/"
        },
        "id": "H0_9Nxjkg0Ew",
        "outputId": "4d8ab265-5fe8-4e20-b480-03ab42d4862c"
      },
      "source": [
        "#聊天機器人自我介紹\n",
        "print(\"哈囉,大家好。我叫Zyxo64,是一個聊天機器人。\")\n",
        "hobby=\"我喜歡各種美食,很高興有機會來到世新大學,請大家多多指教。\"\n",
        "print(hobby)"
      ],
      "execution_count": 8,
      "outputs": [
        {
          "output_type": "stream",
          "text": [
            "哈囉,大家好。我叫Zyxo64,是一個聊天機器人。\n",
            "我喜歡各種美食,很高興有機會來到世新大學,請大家多多指教。\n"
          ],
          "name": "stdout"
        }
      ]
    },
    {
      "cell_type": "code",
      "metadata": {
        "colab": {
          "base_uri": "https://localhost:8080/"
        },
        "id": "ROlWN4bgj-ts",
        "outputId": "55b7c9f9-f331-4a6d-f034-c4f3d075865b"
      },
      "source": [
        "# 打招呼,取得對方名字\n",
        "name = input(\"嗨!妳好,請問大名?: \")\n",
        "print(\"我叫\", name)\n",
        "print(\"你好\", name, \"很高興認識你\")"
      ],
      "execution_count": 9,
      "outputs": [
        {
          "output_type": "stream",
          "text": [
            "嗨!妳好,請問大名?: jenny\n",
            "我叫 jenny\n",
            "你好 jenny 很高興認識你\n"
          ],
          "name": "stdout"
        }
      ]
    },
    {
      "cell_type": "code",
      "metadata": {
        "colab": {
          "base_uri": "https://localhost:8080/"
        },
        "id": "-Y7YFLofj-ft",
        "outputId": "10065205-971d-48e5-e091-b2fd7c684806"
      },
      "source": [
        "# 從使用者取得今年年份\n",
        "year = input(\"請問一下今年是西元2020年,那是民國幾年呢? \")\n",
        "print(\"對!應該沒錯,謝謝妳!\")\n",
        "# 請使用者猜年齡\n",
        "myage = int(input(\"再猜猜看我今年幾歲? \"))\n",
        "print(\"哇!你好聰明,我今年的確\", myage)\n",
        "# 計算聊天機器人滿100歲的年份\n",
        "nyears = 100 - myage\n",
        "print(\"我再\", nyears, \"年就滿100歲了。\")\n",
        "print(\"到時候是西元\", int(year) + nyears + 1911, \"年\") # 將今年年份轉換為整數"
      ],
      "execution_count": 11,
      "outputs": [
        {
          "output_type": "stream",
          "text": [
            "請問一下今年是西元2020年,那是民國幾年呢? 109\n",
            "對!應該沒錯,謝謝妳!\n",
            "再猜猜看我今年幾歲? 50\n",
            "哇!你好聰明,我今年的確 50\n",
            "我再 50 年就滿100歲了。\n",
            "到時候是西元 2070 年\n"
          ],
          "name": "stdout"
        }
      ]
    },
    {
      "cell_type": "code",
      "metadata": {
        "colab": {
          "base_uri": "https://localhost:8080/"
        },
        "id": "2TULQp8jlLnm",
        "outputId": "ea14afe1-5079-4e08-850c-eb7e0ea54727"
      },
      "source": [
        "# 食物話題\n",
        "print(\"我喜歡巧克力,也喜歡嘗試各種新食物。\")\n",
        "food = input(\"你呢。你最喜歡的食物是什麼?: \")\n",
        "print(\"我也喜歡\", food)\n",
        "question = \"你多久吃一次\" + food + \"?: \"\n",
        "howoften = input(question)\n",
        "print(\"真有趣。不知道這樣對健康好不好!\")"
      ],
      "execution_count": 12,
      "outputs": [
        {
          "output_type": "stream",
          "text": [
            "我喜歡巧克力,也喜歡嘗試各種新食物。\n",
            "你呢。你最喜歡的食物是什麼?: 巧克力\n",
            "我也喜歡 巧克力\n",
            "你多久吃一次巧克力?: 每天\n",
            "真有趣。不知道這樣對健康好不好!\n"
          ],
          "name": "stdout"
        }
      ]
    },
    {
      "cell_type": "code",
      "metadata": {
        "colab": {
          "base_uri": "https://localhost:8080/"
        },
        "id": "fpWUzyTYlL1w",
        "outputId": "bc30f616-4a41-400c-a5b4-559b911f0574"
      },
      "source": [
        "# 動物話題\n",
        "animal = input(\"我最喜歡的動物是長頸鹿。你呢?; \")\n",
        "print(\"我不喜歡\", animal)\n",
        "print(\"不知道\", animal, \"喜不喜歡吃\", food, \"?\")"
      ],
      "execution_count": 17,
      "outputs": [
        {
          "output_type": "stream",
          "text": [
            "我最喜歡的動物是長頸鹿。你呢?; 豬\n",
            "我不喜歡 豬\n",
            "不知道 豬 喜不喜歡吃 巧克力 ?\n"
          ],
          "name": "stdout"
        }
      ]
    }
  ]
}
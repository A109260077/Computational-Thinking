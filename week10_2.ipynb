{
  "nbformat": 4,
  "nbformat_minor": 0,
  "metadata": {
    "colab": {
      "name": "week10-2",
      "provenance": [],
      "authorship_tag": "ABX9TyPLAIoWl0R/hU3s4hMXxnb9",
      "include_colab_link": true
    },
    "kernelspec": {
      "name": "python3",
      "display_name": "Python 3"
    }
  },
  "cells": [
    {
      "cell_type": "markdown",
      "metadata": {
        "id": "view-in-github",
        "colab_type": "text"
      },
      "source": [
        "<a href=\"https://colab.research.google.com/github/A109260077/Computational-Thinking/blob/master/week10_2.ipynb\" target=\"_parent\"><img src=\"https://colab.research.google.com/assets/colab-badge.svg\" alt=\"Open In Colab\"/></a>"
      ]
    },
    {
      "cell_type": "code",
      "metadata": {
        "colab": {
          "base_uri": "https://localhost:8080/"
        },
        "id": "2sYbShQKkyEX",
        "outputId": "b06d1710-efd5-427f-f78b-625baea7be09"
      },
      "source": [
        "number=int(input(\"請輸入座號\"))\n",
        "team=(number//5.5)\n",
        "team_number=(team+1)\n",
        "print(f'組別為{team_number}')"
      ],
      "execution_count": 33,
      "outputs": [
        {
          "output_type": "stream",
          "text": [
            "請輸入座號18\n",
            "組別為4.0\n"
          ],
          "name": "stdout"
        }
      ]
    }
  ]
}
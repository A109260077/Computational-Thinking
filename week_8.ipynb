{
  "nbformat": 4,
  "nbformat_minor": 0,
  "metadata": {
    "colab": {
      "name": "week 8.ipynb",
      "provenance": [],
      "authorship_tag": "ABX9TyPDfYiNWsZ6z6M7wC5t9a5m",
      "include_colab_link": true
    },
    "kernelspec": {
      "name": "python3",
      "display_name": "Python 3"
    }
  },
  "cells": [
    {
      "cell_type": "markdown",
      "metadata": {
        "id": "view-in-github",
        "colab_type": "text"
      },
      "source": [
        "<a href=\"https://colab.research.google.com/github/A109260077/Computational-Thinking/blob/master/week_8.ipynb\" target=\"_parent\"><img src=\"https://colab.research.google.com/assets/colab-badge.svg\" alt=\"Open In Colab\"/></a>"
      ]
    },
    {
      "cell_type": "code",
      "metadata": {
        "id": "zMbDRMpQR_2M",
        "outputId": "ad2862d3-31c8-467f-b4c1-f7a20ebfb049",
        "colab": {
          "base_uri": "https://localhost:8080/"
        }
      },
      "source": [
        "##input\n",
        "cloths_price=300\n",
        "plants_price=350\n",
        "vest_price=400\n",
        "cloths=float(input('請輸入數量?'))\n",
        "plants=float(input('請輸入數量?'))\n",
        "vest=float(input('請輸入數量?'))\n",
        "##process\n",
        "total=cloths_price*cloths+plants_price*plants+vest_price*vest\n",
        "##output\n",
        "print(f'總價格為{total}')\n",
        "\n",
        "\n",
        "\n",
        "\n"
      ],
      "execution_count": 2,
      "outputs": [
        {
          "output_type": "stream",
          "text": [
            "請輸入數量?3\n",
            "請輸入數量?1\n",
            "請輸入數量?5\n",
            "總價格為3250.0\n"
          ],
          "name": "stdout"
        }
      ]
    },
    {
      "cell_type": "markdown",
      "metadata": {
        "id": "m78RXe3Xbyyd"
      },
      "source": [
        "題目:服裝訂購系統"
      ]
    }
  ]
}
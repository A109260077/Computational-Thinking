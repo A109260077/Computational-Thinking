{
  "nbformat": 4,
  "nbformat_minor": 0,
  "metadata": {
    "colab": {
      "name": "Untitled5.ipynb",
      "provenance": [],
      "authorship_tag": "ABX9TyNbsoyx8w4CHp7OPk8P75U1",
      "include_colab_link": true
    },
    "kernelspec": {
      "name": "python3",
      "display_name": "Python 3"
    }
  },
  "cells": [
    {
      "cell_type": "markdown",
      "metadata": {
        "id": "view-in-github",
        "colab_type": "text"
      },
      "source": [
        "<a href=\"https://colab.research.google.com/github/A109260077/Computational-Thinking/blob/master/Untitled5.ipynb\" target=\"_parent\"><img src=\"https://colab.research.google.com/assets/colab-badge.svg\" alt=\"Open In Colab\"/></a>"
      ]
    },
    {
      "cell_type": "code",
      "metadata": {
        "id": "7VxQpGdiZmWO",
        "outputId": "e2607c5e-5398-4a4c-dafb-58d08da18b9c",
        "colab": {
          "base_uri": "https://localhost:8080/"
        }
      },
      "source": [
        "x = 2\n",
        "y = 3\n",
        "print(x + y)\n",
        "print(x - y)\n",
        "print(x * y)\n",
        "print(x // y)\n",
        "print(x % y)\n",
        "print(x ** y)"
      ],
      "execution_count": 1,
      "outputs": [
        {
          "output_type": "stream",
          "text": [
            "5\n",
            "-1\n",
            "6\n",
            "0\n",
            "2\n",
            "8\n"
          ],
          "name": "stdout"
        }
      ]
    },
    {
      "cell_type": "code",
      "metadata": {
        "id": "hoN5zbK1Z7Xi",
        "outputId": "a8ddef2d-c472-458d-eac0-5a49f0d4d3b0",
        "colab": {
          "base_uri": "https://localhost:8080/",
          "height": 52
        }
      },
      "source": [
        "input()"
      ],
      "execution_count": 2,
      "outputs": [
        {
          "output_type": "stream",
          "text": [
            "2\n"
          ],
          "name": "stdout"
        },
        {
          "output_type": "execute_result",
          "data": {
            "application/vnd.google.colaboratory.intrinsic+json": {
              "type": "string"
            },
            "text/plain": [
              "'2'"
            ]
          },
          "metadata": {
            "tags": []
          },
          "execution_count": 2
        }
      ]
    },
    {
      "cell_type": "code",
      "metadata": {
        "id": "sdB5aDaIbJ1i",
        "outputId": "56bb0a7d-0982-4539-afb2-f5898efeaa0a",
        "colab": {
          "base_uri": "https://localhost:8080/",
          "height": 52
        }
      },
      "source": [
        "input(\"請輸入數字?\")"
      ],
      "execution_count": 3,
      "outputs": [
        {
          "output_type": "stream",
          "text": [
            "請輸入數字?2\n"
          ],
          "name": "stdout"
        },
        {
          "output_type": "execute_result",
          "data": {
            "application/vnd.google.colaboratory.intrinsic+json": {
              "type": "string"
            },
            "text/plain": [
              "'2'"
            ]
          },
          "metadata": {
            "tags": []
          },
          "execution_count": 3
        }
      ]
    },
    {
      "cell_type": "code",
      "metadata": {
        "id": "wtpWcylgbKDB",
        "outputId": "ba282bd7-12cb-492b-895d-9fb2aec1c1d7",
        "colab": {
          "base_uri": "https://localhost:8080/"
        }
      },
      "source": [
        "x=input(\"請輸入數字?\")"
      ],
      "execution_count": 4,
      "outputs": [
        {
          "output_type": "stream",
          "text": [
            "請輸入數字?2\n"
          ],
          "name": "stdout"
        }
      ]
    },
    {
      "cell_type": "code",
      "metadata": {
        "id": "bTsILGS_bKMx",
        "outputId": "9f2acb4b-b3df-4235-b8e8-d18960a0d1ca",
        "colab": {
          "base_uri": "https://localhost:8080/",
          "height": 35
        }
      },
      "source": [
        "x"
      ],
      "execution_count": 5,
      "outputs": [
        {
          "output_type": "execute_result",
          "data": {
            "application/vnd.google.colaboratory.intrinsic+json": {
              "type": "string"
            },
            "text/plain": [
              "'2'"
            ]
          },
          "metadata": {
            "tags": []
          },
          "execution_count": 5
        }
      ]
    },
    {
      "cell_type": "code",
      "metadata": {
        "id": "rbRcVcz2blG-",
        "outputId": "7bc141ee-a85c-4596-fc56-2045509229a4",
        "colab": {
          "base_uri": "https://localhost:8080/"
        }
      },
      "source": [
        "print(x)"
      ],
      "execution_count": 6,
      "outputs": [
        {
          "output_type": "stream",
          "text": [
            "2\n"
          ],
          "name": "stdout"
        }
      ]
    },
    {
      "cell_type": "code",
      "metadata": {
        "id": "k3DfwmrdblJm",
        "outputId": "6d7bd2d3-78af-4c1f-b4e4-32eac58a6bc1",
        "colab": {
          "base_uri": "https://localhost:8080/"
        }
      },
      "source": [
        "print(x,2,\"Python\")"
      ],
      "execution_count": 15,
      "outputs": [
        {
          "output_type": "stream",
          "text": [
            "2 2 Python\n"
          ],
          "name": "stdout"
        }
      ]
    },
    {
      "cell_type": "code",
      "metadata": {
        "id": "MXg_e-LWblRe",
        "outputId": "37189d73-7b9c-4055-ed21-eef4326a3945",
        "colab": {
          "base_uri": "https://localhost:8080/"
        }
      },
      "source": [
        "x = input(\"請輸入上衣的數量?\")"
      ],
      "execution_count": 16,
      "outputs": [
        {
          "output_type": "stream",
          "text": [
            "請輸入上衣的數量?3\n"
          ],
          "name": "stdout"
        }
      ]
    },
    {
      "cell_type": "code",
      "metadata": {
        "id": "nrTXAqBXeNcd"
      },
      "source": [
        "x = int(x)"
      ],
      "execution_count": 19,
      "outputs": []
    },
    {
      "cell_type": "code",
      "metadata": {
        "id": "hDrqIYeGeNf0"
      },
      "source": [
        "total = 300 * x"
      ],
      "execution_count": 23,
      "outputs": []
    },
    {
      "cell_type": "code",
      "metadata": {
        "id": "JwvU1i_ReNkK",
        "outputId": "9596b749-67b6-4ea1-aa3f-f3dda7da5825",
        "colab": {
          "base_uri": "https://localhost:8080/"
        }
      },
      "source": [
        "print(total)"
      ],
      "execution_count": 24,
      "outputs": [
        {
          "output_type": "stream",
          "text": [
            "900\n"
          ],
          "name": "stdout"
        }
      ]
    },
    {
      "cell_type": "code",
      "metadata": {
        "id": "dCIj6apdfZMG",
        "outputId": "50397e63-71d2-45e9-9449-c11e1c58bf29",
        "colab": {
          "base_uri": "https://localhost:8080/"
        }
      },
      "source": [
        "x = int(input(\"請輸入上衣的數量?\"))\n",
        "total = 300 * x\n",
        "print(total)"
      ],
      "execution_count": 25,
      "outputs": [
        {
          "output_type": "stream",
          "text": [
            "請輸入上衣的數量?5\n",
            "1500\n"
          ],
          "name": "stdout"
        }
      ]
    },
    {
      "cell_type": "code",
      "metadata": {
        "id": "pBO4-Jr7fZTS",
        "outputId": "05665488-c4dd-4783-8a57-e965458eda57",
        "colab": {
          "base_uri": "https://localhost:8080/"
        }
      },
      "source": [
        "cans = int(input(\"請輸入購買的飲料罐數?\"))\n",
        "total = (cans//12)*200 + (cans//12)*20\n",
        "print (\"需花費\",total)"
      ],
      "execution_count": 28,
      "outputs": [
        {
          "output_type": "stream",
          "text": [
            "請輸入購買的飲料罐數?2\n",
            "需花費 0\n"
          ],
          "name": "stdout"
        }
      ]
    },
    {
      "cell_type": "code",
      "metadata": {
        "id": "BMyRDDhdfZWL",
        "outputId": "d23822a9-2c1a-4192-9c5c-fd2e4d50b44d",
        "colab": {
          "base_uri": "https://localhost:8080/"
        }
      },
      "source": [
        "first = int(input(\"請輸入第一次期中考成績?\"))\n",
        "second = int(input(\"請輸入第二次期中考成績?\"))\n",
        "final = int(input(\"請輸入期末考成績?\"))\n",
        "total = first + second + final\n",
        "average = total / 3\n",
        "print(\"總分為\",total,\"平均為\",average)"
      ],
      "execution_count": 29,
      "outputs": [
        {
          "output_type": "stream",
          "text": [
            "請輸入第一次期中考成績?50\n",
            "請輸入第二次期中考成績?40\n",
            "請輸入期末考成績?60\n",
            "總分為 150 平均為 50.0\n"
          ],
          "name": "stdout"
        }
      ]
    },
    {
      "cell_type": "code",
      "metadata": {
        "id": "9LetcOR1fZZr"
      },
      "source": [
        ""
      ],
      "execution_count": null,
      "outputs": []
    },
    {
      "cell_type": "code",
      "metadata": {
        "id": "U9WBROzdfZds"
      },
      "source": [
        ""
      ],
      "execution_count": null,
      "outputs": []
    }
  ]
}